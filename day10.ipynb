{
 "cells": [
  {
   "cell_type": "code",
   "execution_count": 4,
   "metadata": {},
   "outputs": [
    {
     "data": {
      "text/plain": [
       "10-element Vector{SubString{String}}:\n",
       " \"[({(<(())[]>[[{[]{<()<>>\"\n",
       " \"[(()[<>])]({[<{<<[]>>(\"\n",
       " \"{([(<{}[<>[]}>{[]{[(<()>\"\n",
       " \"(((({<>}<{<{<>}{[]{[]{}\"\n",
       " \"[[<[([]))<([[{}[[()]]]\"\n",
       " \"[{[{({}]{}}([{[{{{}}([]\"\n",
       " \"{<[[]]>}<{[{[{[]{()[[[]\"\n",
       " \"[<(<(<(<{}))><([]([]()\"\n",
       " \"<{([([[(<>()){}]>(<<{{\"\n",
       " \"<{([{{}}[<[[[<>{}]]]>[]]\""
      ]
     },
     "metadata": {},
     "output_type": "display_data"
    }
   ],
   "source": [
    "test_input = split(\"\"\"[({(<(())[]>[[{[]{<()<>>\n",
    "[(()[<>])]({[<{<<[]>>(\n",
    "{([(<{}[<>[]}>{[]{[(<()>\n",
    "(((({<>}<{<{<>}{[]{[]{}\n",
    "[[<[([]))<([[{}[[()]]]\n",
    "[{[{({}]{}}([{[{{{}}([]\n",
    "{<[[]]>}<{[{[{[]{()[[[]\n",
    "[<(<(<(<{}))><([]([]()\n",
    "<{([([[(<>()){}]>(<<{{\n",
    "<{([{{}}[<[[[<>{}]]]>[]]\"\"\", \"\\n\")\n"
   ]
  },
  {
   "cell_type": "code",
   "execution_count": 19,
   "metadata": {},
   "outputs": [
    {
     "name": "stdout",
     "output_type": "stream",
     "text": [
      "Any[1197, 3, 57, 3, 25137]\n"
     ]
    },
    {
     "data": {
      "text/plain": [
       "true"
      ]
     },
     "metadata": {},
     "output_type": "display_data"
    }
   ],
   "source": [
    "score_lookup = Dict(')' => 3, ']' => 57, '}' => 1197, '>' => 25137)\n",
    "matching = Dict(')' => '(', ']' => '[', '}' => '{', '>' => '<')\n",
    "\n",
    "function part1(lines)\n",
    "    scores = []\n",
    "    for line in lines\n",
    "        stack = []\n",
    "        for char in line\n",
    "            if char in ['{', '(', '[', '<']\n",
    "                push!(stack, char)\n",
    "            elseif matching[char] == last(stack)\n",
    "                pop!(stack)\n",
    "            else\n",
    "                push!(scores, score_lookup[char])\n",
    "                break\n",
    "            end\n",
    "        end\n",
    "    end\n",
    "    println(scores)\n",
    "    return sum(scores)\n",
    "end\n",
    "26397 == part1(test_input)"
   ]
  },
  {
   "cell_type": "code",
   "execution_count": 14,
   "metadata": {},
   "outputs": [
    {
     "name": "stdout",
     "output_type": "stream",
     "text": [
      "Any[57, 25137, 25137, 3, 3, 1197, 3, 1197, 25137, 25137, 1197, 57, 1197, 57, 25137, 25137, 25137, 25137, 25137, 57, 57, 25137, 1197, 57, 57, 57, 3, 57, 1197, 1197, 57, 25137, 57, 1197, 3, 3, 3, 1197, 1197, 57, 57, 25137, 3, 1197, 57, 57, 3]\n"
     ]
    },
    {
     "data": {
      "text/plain": [
       "315693"
      ]
     },
     "metadata": {},
     "output_type": "display_data"
    }
   ],
   "source": [
    "input = readlines(\"inputs/day10.txt\")\n",
    "part1(input)"
   ]
  },
  {
   "cell_type": "code",
   "execution_count": 32,
   "metadata": {},
   "outputs": [
    {
     "name": "stdout",
     "output_type": "stream",
     "text": [
      "Any[288957, 5566, 1480781, 995444, 294]\n"
     ]
    },
    {
     "data": {
      "text/plain": [
       "true"
      ]
     },
     "metadata": {},
     "output_type": "display_data"
    }
   ],
   "source": [
    "auto_score_lookup = Dict('(' => 1, '[' => 2, '{' => 3, '<' => 4)\n",
    "\n",
    "using Statistics\n",
    "\n",
    "function part2(lines) ::Int\n",
    "    incomplete = []\n",
    "    for line in lines\n",
    "        stack = []\n",
    "        corrupt = false\n",
    "        for char in line\n",
    "            if char in ['{', '(', '[', '<']\n",
    "                push!(stack, char)\n",
    "            elseif matching[char] == last(stack)\n",
    "                pop!(stack)\n",
    "            else\n",
    "                corrupt = true\n",
    "                break\n",
    "            end\n",
    "        end\n",
    "        if !corrupt\n",
    "            push!(incomplete, stack)\n",
    "        end\n",
    "    end\n",
    "    \n",
    "    scores = map(line->map(x->auto_score_lookup[x], reverse(line)), incomplete)\n",
    "    auto_scores = []\n",
    "    for score in scores\n",
    "        line_total = 0\n",
    "        for x in score\n",
    "            line_total *= 5\n",
    "            line_total += x\n",
    "        end\n",
    "        push!(auto_scores, line_total)\n",
    "    end\n",
    "    println(auto_scores)\n",
    "    return median(auto_scores)\n",
    "end\n",
    "part2(test_input) == 288957"
   ]
  },
  {
   "cell_type": "code",
   "execution_count": 33,
   "metadata": {},
   "outputs": [
    {
     "name": "stdout",
     "output_type": "stream",
     "text": [
      "Any[8242066711, 26311839173, 9667919, 126445911, 26490852849, 1118968617, 21950231241, 1607394984, 45960487, 2923421469, 3288256221, 16321312419, 4652444, 415930911, 9469425816, 12049880844, 4247941869, 16229239124, 21899864816, 32138588, 4837206, 178387047, 27171795213, 673039949, 1442693, 5671594, 1038583431, 18239952706, 5501350963, 1061116799, 83558307, 2118692494, 3022915368, 9101693, 3316120194, 5463648466, 15452948909, 553727922, 93261742, 4846785359, 11566113311, 22525947, 1047537107, 1870887234, 28875764166, 194088542, 1041770442]\n"
     ]
    },
    {
     "data": {
      "text/plain": [
       "1870887234"
      ]
     },
     "metadata": {},
     "output_type": "display_data"
    }
   ],
   "source": [
    "part2(input)"
   ]
  }
 ],
 "metadata": {
  "kernelspec": {
   "display_name": "Julia 1.6.3",
   "language": "julia",
   "name": "julia-1.6"
  },
  "language_info": {
   "file_extension": ".jl",
   "mimetype": "application/julia",
   "name": "julia",
   "version": "1.6.3"
  },
  "orig_nbformat": 4
 },
 "nbformat": 4,
 "nbformat_minor": 2
}
