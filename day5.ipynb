{
 "cells": [
  {
   "cell_type": "code",
   "execution_count": 44,
   "metadata": {},
   "outputs": [
    {
     "data": {
      "text/plain": [
       "10-element Vector{Any}:\n",
       " [1, 10, 6, 10]\n",
       " [9, 1, 1, 9]\n",
       " [10, 5, 4, 5]\n",
       " [3, 3, 3, 2]\n",
       " [8, 1, 8, 5]\n",
       " [7, 5, 3, 1]\n",
       " [1, 10, 3, 10]\n",
       " [4, 5, 2, 5]\n",
       " [1, 1, 9, 9]\n",
       " [6, 6, 9, 3]"
      ]
     },
     "metadata": {},
     "output_type": "display_data"
    }
   ],
   "source": [
    "test_input = split(\"\"\"0,9 -> 5,9\n",
    "8,0 -> 0,8\n",
    "9,4 -> 3,4\n",
    "2,2 -> 2,1\n",
    "7,0 -> 7,4\n",
    "6,4 -> 2,0\n",
    "0,9 -> 2,9\n",
    "3,4 -> 1,4\n",
    "0,0 -> 8,8\n",
    "5,5 -> 8,2\"\"\", \"\\n\")\n",
    "\n",
    "function parse_day5(lines)\n",
    "    points = []\n",
    "    for l in lines\n",
    "        push!(points, (+).(1,parse.(Int, SubString.(l, findall(r\"\\d+\",l)))))\n",
    "    end\n",
    "    return points\n",
    "end\n",
    "\n",
    "test_vents = parse_day5(test_input)"
   ]
  },
  {
   "cell_type": "code",
   "execution_count": 45,
   "metadata": {},
   "outputs": [
    {
     "data": {
      "text/plain": [
       "6189"
      ]
     },
     "metadata": {},
     "output_type": "display_data"
    }
   ],
   "source": [
    "function part1(vents)\n",
    "    global_max = max(map(x->max(x...), vents)...)\n",
    "    danger_map = zeros(Int16, (global_max, global_max))\n",
    "    for v in vents\n",
    "        if v[1] == v[3] || v[2] == v[4]\n",
    "            fromx, tox = minmax(v[1], v[3])\n",
    "            fromy, toy = minmax(v[2], v[4])\n",
    "            danger_map[ CartesianIndex.(fromx:tox, fromy:toy) ] .+= 1\n",
    "        end\n",
    "    end\n",
    "    return count(x-> x >= 2, danger_map)\n",
    "end\n",
    "@assert(5 == part1(test_vents))\n",
    "\n",
    "input = parse_day5(readlines(\"inputs/day5.txt\"))\n",
    "part1(input)"
   ]
  },
  {
   "cell_type": "code",
   "execution_count": 59,
   "metadata": {},
   "outputs": [
    {
     "data": {
      "text/plain": [
       "19164"
      ]
     },
     "metadata": {},
     "output_type": "display_data"
    }
   ],
   "source": [
    "function part2(vents)\n",
    "    global_max = max(map(x->max(x...), vents)...)\n",
    "    danger_map = zeros(Int16, (global_max, global_max))\n",
    "    for v in vents\n",
    "        fromx, tox = minmax(v[1], v[3])\n",
    "        fromy, toy = minmax(v[2], v[4])\n",
    "        if v[1] == v[3] || v[2] == v[4]\n",
    "            danger_map[ CartesianIndex.(fromx:tox, fromy:toy) ] .+= 1\n",
    "        else\n",
    "            danger_map[ CartesianIndex.( v[1]:sign(v[3]-v[1]):v[3], v[2]:sign(v[4]-v[2]):v[4] ) ] .+= 1\n",
    "        end\n",
    "    end\n",
    "    return count(x-> x >= 2, danger_map)\n",
    "end\n",
    "@assert(12 == part2(test_vents))\n",
    "\n",
    "part2(input)"
   ]
  }
 ],
 "metadata": {
  "kernelspec": {
   "display_name": "Julia 1.6.3",
   "language": "julia",
   "name": "julia-1.6"
  },
  "language_info": {
   "file_extension": ".jl",
   "mimetype": "application/julia",
   "name": "julia",
   "version": "1.6.3"
  },
  "orig_nbformat": 4
 },
 "nbformat": 4,
 "nbformat_minor": 2
}
