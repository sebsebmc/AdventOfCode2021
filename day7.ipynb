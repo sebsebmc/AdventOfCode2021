{
 "cells": [
  {
   "cell_type": "code",
   "execution_count": 5,
   "metadata": {},
   "outputs": [
    {
     "name": "stdout",
     "output_type": "stream",
     "text": [
      "0\n"
     ]
    }
   ],
   "source": [
    "test_input = parse.(Int, split(\"\"\"16,1,2,0,4,2,7,1,2,14\"\"\", \",\"))\n",
    "cost = 0\n",
    "function part1(crabs)\n",
    "    cost = min( map(center-> sum(map(x->abs(center-x), crabs)), collect(0:max(crabs...)) )... )\n",
    "    return cost\n",
    "end\n",
    "\n",
    "println(cost)"
   ]
  },
  {
   "cell_type": "code",
   "execution_count": 8,
   "metadata": {},
   "outputs": [
    {
     "data": {
      "text/plain": [
       "347011"
      ]
     },
     "metadata": {},
     "output_type": "display_data"
    }
   ],
   "source": [
    "input = parse.(Int, split(readline(\"inputs/day7.txt\"), \",\"))\n",
    "part1(input)"
   ]
  },
  {
   "cell_type": "code",
   "execution_count": 12,
   "metadata": {},
   "outputs": [
    {
     "data": {
      "text/plain": [
       "98363777"
      ]
     },
     "metadata": {},
     "output_type": "display_data"
    }
   ],
   "source": [
    "@inline function sumn(n)\n",
    "    return n * (n + 1) ÷ 2\n",
    "end\n",
    "@assert(sumn(3) == 6)\n",
    "\n",
    "function part2(crabs)\n",
    "    cost = min( map(center-> sum(map(x->sumn(abs(center-x)), crabs)), collect(0:max(crabs...)) )... )\n",
    "    return cost\n",
    "end\n",
    "part2(input)\n"
   ]
  }
 ],
 "metadata": {
  "kernelspec": {
   "display_name": "Julia 1.6.3",
   "language": "julia",
   "name": "julia-1.6"
  },
  "language_info": {
   "file_extension": ".jl",
   "mimetype": "application/julia",
   "name": "julia",
   "version": "1.6.3"
  },
  "orig_nbformat": 4
 },
 "nbformat": 4,
 "nbformat_minor": 2
}
