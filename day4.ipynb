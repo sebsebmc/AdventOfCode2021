{
 "cells": [
  {
   "cell_type": "code",
   "execution_count": 91,
   "metadata": {},
   "outputs": [
    {
     "data": {
      "text/plain": [
       "parse_day4 (generic function with 1 method)"
      ]
     },
     "metadata": {},
     "output_type": "display_data"
    }
   ],
   "source": [
    "\n",
    "function parse_day4(lines)\n",
    "    calls = parse.(Int8, split(lines[1],\",\"))\n",
    "    boards = []\n",
    "    board = zeros(Int8, 5, 5)\n",
    "    for i in 2:6:length(lines)\n",
    "        # println(i)\n",
    "        board = []\n",
    "        for j in 1:5\n",
    "            matches = collect(eachmatch(r\"[0-9]+\", lines[i+j]))\n",
    "            row = parse.(Int8, map(x->x.match, matches))\n",
    "            board = vcat(board, row)\n",
    "        end\n",
    "        push!(boards, board)\n",
    "    end\n",
    "    return (calls, boards)\n",
    "end\n"
   ]
  },
  {
   "cell_type": "code",
   "execution_count": 92,
   "metadata": {},
   "outputs": [
    {
     "data": {
      "text/plain": [
       "part1 (generic function with 1 method)"
      ]
     },
     "metadata": {},
     "output_type": "display_data"
    }
   ],
   "source": [
    "function first_bingo(idxs)\n",
    "    bingo_index = length(calls)\n",
    "\n",
    "    for row in 0:4\n",
    "        start = row * 5 + 1\n",
    "        callnums = map(pos -> findfirst(x->x==pos, idxs), collect(start:start+4))\n",
    "        if nothing in callnums\n",
    "            continue\n",
    "        end\n",
    "        bingo_index = min(bingo_index, max(callnums...))\n",
    "    end\n",
    "\n",
    "    for col in 1:5\n",
    "        callnums = map(pos -> findfirst(x->x==pos, idxs), collect(col:5:25))\n",
    "        if nothing in callnums\n",
    "            continue\n",
    "        end\n",
    "        bingo_index = min(bingo_index, max(callnums...))\n",
    "    end\n",
    "    return bingo_index\n",
    "end\n",
    "\n",
    "function score(board, calls, call_num)\n",
    "    sum(collect(setdiff(Set(board), Set(calls[begin:call_num])))) * calls[call_num]\n",
    "end\n",
    "\n",
    "function part1(calls, boards)\n",
    "    hits = []\n",
    "    for b in boards\n",
    "        push!(hits, map(c->findfirst(x->x == c, b), calls))\n",
    "    end\n",
    "    board_calls = first_bingo.(hits)\n",
    "    call, first_board = findmin(board_calls)\n",
    "    return score(boards[first_board], calls, call)\n",
    "end"
   ]
  },
  {
   "cell_type": "code",
   "execution_count": 93,
   "metadata": {},
   "outputs": [],
   "source": [
    "test_input = split(\"\"\"7,4,9,5,11,17,23,2,0,14,21,24,10,16,13,6,15,25,12,22,18,20,8,19,3,26,1\n",
    "\n",
    "22 13 17 11  0\n",
    " 8  2 23  4 24\n",
    "21  9 14 16  7\n",
    " 6 10  3 18  5\n",
    " 1 12 20 15 19\n",
    "\n",
    " 3 15  0  2 22\n",
    " 9 18 13 17  5\n",
    "19  8  7 25 23\n",
    "20 11 10 24  4\n",
    "14 21 16 12  6\n",
    "\n",
    "14 21 17 24  4\n",
    "10 16 15  9 19\n",
    "18  8 23 26 20\n",
    "22 11 13  6  5\n",
    "2  0 12  3  7\"\"\", \"\\n\")\n",
    "\n",
    "test_calls, test_boards = parse_day4(test_input)\n",
    "@assert(4512 == part1(test_calls, test_boards))"
   ]
  },
  {
   "cell_type": "code",
   "execution_count": 94,
   "metadata": {},
   "outputs": [
    {
     "data": {
      "text/plain": [
       "33462"
      ]
     },
     "metadata": {},
     "output_type": "display_data"
    }
   ],
   "source": [
    "calls, boards = parse_day4(readlines(\"inputs/day4.txt\"))\n",
    "part1(calls, boards)"
   ]
  },
  {
   "cell_type": "code",
   "execution_count": 95,
   "metadata": {},
   "outputs": [],
   "source": [
    "function part1(calls, boards)\n",
    "    hits = []\n",
    "    for b in boards\n",
    "        push!(hits, map(c->findfirst(x->x == c, b), calls))\n",
    "    end\n",
    "    board_calls = first_bingo.(hits)\n",
    "    call, first_board = findmax(board_calls)\n",
    "    return score(boards[first_board], calls, call)\n",
    "end"
   ]
  }
 ],
 "metadata": {
  "kernelspec": {
   "display_name": "Julia 1.6.3",
   "language": "julia",
   "name": "julia-1.6"
  },
  "language_info": {
   "file_extension": ".jl",
   "mimetype": "application/julia",
   "name": "julia",
   "version": "1.6.3"
  },
  "orig_nbformat": 4
 },
 "nbformat": 4,
 "nbformat_minor": 2
}
