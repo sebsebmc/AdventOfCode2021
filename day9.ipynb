{
 "cells": [
  {
   "cell_type": "code",
   "execution_count": 1,
   "metadata": {},
   "outputs": [
    {
     "data": {
      "text/plain": [
       "10×5 Matrix{Int64}:\n",
       " 2  3  9  8  9\n",
       " 1  9  8  7  8\n",
       " 9  8  5  6  9\n",
       " 9  7  6  7  9\n",
       " 9  8  7  8  9\n",
       " 4  9  8  9  6\n",
       " 3  4  9  6  5\n",
       " 2  9  8  7  6\n",
       " 1  2  9  8  7\n",
       " 0  1  2  9  8"
      ]
     },
     "metadata": {},
     "output_type": "display_data"
    }
   ],
   "source": [
    "test_input = split(\"\"\"2199943210\n",
    "3987894921\n",
    "9856789892\n",
    "8767896789\n",
    "9899965678\"\"\", \"\\n\")\n",
    "\n",
    "function parse_day9(lines) \n",
    "    return hcat([parse.(Int, split(line, \"\")) for line in lines]...)\n",
    "end\n",
    "\n",
    "test_map = parse_day9(test_input)"
   ]
  },
  {
   "cell_type": "code",
   "execution_count": 2,
   "metadata": {},
   "outputs": [],
   "source": [
    "function part1(map)\n",
    "    risk = 0\n",
    "    x,y = size(map)\n",
    "    edge_val = maximum(map)+1\n",
    "    safe_map = fill(edge_val, (x+2, y+2))\n",
    "    safe_map[2:end-1,2:end-1] = map\n",
    "    for i in 2:x+1\n",
    "        for j in 2:y+1\n",
    "            curr = safe_map[i,j]\n",
    "            if curr < safe_map[i-1,j] && curr < safe_map[i+1, j] && curr < safe_map[i, j-1] && curr < safe_map[i, j+1]\n",
    "                risk += curr + 1\n",
    "            end\n",
    "        end\n",
    "    end\n",
    "    return risk\n",
    "end\n",
    "@assert(15 == part1(test_map))"
   ]
  },
  {
   "cell_type": "code",
   "execution_count": 3,
   "metadata": {},
   "outputs": [
    {
     "data": {
      "text/plain": [
       "508"
      ]
     },
     "metadata": {},
     "output_type": "display_data"
    }
   ],
   "source": [
    "input = parse_day9(readlines(\"inputs/day9.txt\"))\n",
    "part1(input)"
   ]
  },
  {
   "cell_type": "code",
   "execution_count": 12,
   "metadata": {},
   "outputs": [],
   "source": [
    "function measure_basin(map, x, y)\n",
    "    in_basin = Set{Tuple{Int,Int}}([(x,y)])\n",
    "    # unexplored = Set{Tuple{Int,Int}}([(x,y)])\n",
    "    explored = Set{Tuple{Int,Int}}()\n",
    "    # println(unexplored)\n",
    "    \n",
    "    while length(setdiff(in_basin,explored)) > 0\n",
    "        # i,j = pop!(unexplored)\n",
    "        i,j = first(setdiff(in_basin, explored))\n",
    "        if map[i-1, j] != 9\n",
    "            push!(in_basin, (i-1, j))\n",
    "            # push!(unexplored, (i-1, j))\n",
    "        end\n",
    "        if map[i+1, j] != 9\n",
    "            push!(in_basin, (i+1, j))\n",
    "            # push!(unexplored, (i+1, j))\n",
    "        end\n",
    "        if map[i, j-1] != 9\n",
    "            push!(in_basin, (i, j-1))\n",
    "            # push!(unexplored, (i, j-1))\n",
    "        end\n",
    "        if map[i, j+1] != 9\n",
    "            push!(in_basin, (i, j+1))\n",
    "            # push!(unexplored, (i, j+1))\n",
    "        end\n",
    "        # Need to stop revisits?\n",
    "        push!(explored, (i, j))\n",
    "    end\n",
    "    # println(length(in_basin))\n",
    "    return length(in_basin)\n",
    "end\n",
    "\n",
    "function part2(map)\n",
    "    basins = []\n",
    "    x,y = size(map)\n",
    "    edge_val = 9\n",
    "    safe_map = fill(edge_val, (x+2, y+2))\n",
    "    safe_map[2:end-1,2:end-1] = map\n",
    "    for i in 2:x+1\n",
    "        for j in 2:y+1\n",
    "            curr = safe_map[i,j]\n",
    "            if curr < safe_map[i-1,j] && curr < safe_map[i+1, j] && curr < safe_map[i, j-1] && curr < safe_map[i, j+1]\n",
    "                push!(basins, measure_basin(safe_map, i, j))\n",
    "            end\n",
    "        end\n",
    "    end\n",
    "    return prod(sort(basins)[end-2:end])\n",
    "end\n",
    "@assert(1134 == part2(test_map))\n"
   ]
  },
  {
   "cell_type": "code",
   "execution_count": 14,
   "metadata": {},
   "outputs": [
    {
     "name": "stdout",
     "output_type": "stream",
     "text": [
      "  0.037687 seconds (64.25 k allocations: 41.086 MiB, 32.18% gc time)\n"
     ]
    },
    {
     "data": {
      "text/plain": [
       "1564640"
      ]
     },
     "metadata": {},
     "output_type": "display_data"
    }
   ],
   "source": [
    "part2(input)"
   ]
  }
 ],
 "metadata": {
  "kernelspec": {
   "display_name": "Julia 1.6.3",
   "language": "julia",
   "name": "julia-1.6"
  },
  "language_info": {
   "file_extension": ".jl",
   "mimetype": "application/julia",
   "name": "julia",
   "version": "1.6.3"
  },
  "orig_nbformat": 4
 },
 "nbformat": 4,
 "nbformat_minor": 2
}
