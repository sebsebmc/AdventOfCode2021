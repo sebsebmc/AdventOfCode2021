{
 "cells": [
  {
   "cell_type": "code",
   "execution_count": 45,
   "metadata": {},
   "outputs": [
    {
     "data": {
      "text/plain": [
       "10×10 Matrix{Int64}:\n",
       " 5  4  8  3  1  4  3  2  2  3\n",
       " 2  7  4  5  8  5  4  7  1  1\n",
       " 5  2  6  4  5  5  6  1  7  3\n",
       " 6  1  4  1  3  3  6  1  4  6\n",
       " 6  3  5  7  3  8  5  4  7  8\n",
       " 4  1  6  7  5  2  4  6  4  5\n",
       " 2  1  7  6  8  4  1  7  2  1\n",
       " 6  8  8  2  8  8  1  1  3  4\n",
       " 4  8  4  6  8  4  8  5  5  4\n",
       " 5  2  8  3  7  5  1  5  2  6"
      ]
     },
     "metadata": {},
     "output_type": "display_data"
    }
   ],
   "source": [
    "test_input = split(\"\"\"5483143223\n",
    "2745854711\n",
    "5264556173\n",
    "6141336146\n",
    "6357385478\n",
    "4167524645\n",
    "2176841721\n",
    "6882881134\n",
    "4846848554\n",
    "5283751526\"\"\", \"\\n\")\n",
    "\n",
    "function parse_day11(lines)\n",
    "    width = length(lines[1])\n",
    "    height = length(lines)\n",
    "    cavern = fill(0, (height, width))\n",
    "    for y in 1:height\n",
    "        for x in 1:width\n",
    "            cavern[y,x] = parse(Int8, lines[y][x])\n",
    "        end\n",
    "    end\n",
    "    return cavern\n",
    "end\n",
    "test_cavern = parse_day11(test_input)"
   ]
  },
  {
   "cell_type": "code",
   "execution_count": 46,
   "metadata": {},
   "outputs": [
    {
     "data": {
      "text/plain": [
       "part1 (generic function with 2 methods)"
      ]
     },
     "metadata": {},
     "output_type": "display_data"
    }
   ],
   "source": [
    "function neighbors(cavern, position)\n",
    "    R = CartesianIndices(cavern)\n",
    "    Ifirst, Ilast = first(R), last(R)\n",
    "    I1 = oneunit(Ifirst)\n",
    "    return max(Ifirst, position - I1):min(Ilast, position+I1)\n",
    "end\n",
    "\n",
    "function part1(cavern::AbstractArray, steps = 100)\n",
    "    flashes = 0\n",
    "    for step in 1:steps\n",
    "        cavern .+= 1\n",
    "        flashed = CartesianIndex{2}[]\n",
    "        new_flashes::AbstractArray{CartesianIndex{2},1} = findall(>(9), cavern)\n",
    "        while !isempty(new_flashes)\n",
    "            push!(flashed, new_flashes...)\n",
    "            for pos in new_flashes\n",
    "                cavern[neighbors(cavern,pos)] .+= 1\n",
    "                # Don't increment the flashing location\n",
    "                cavern[pos] -= 1\n",
    "            end\n",
    "            new_flashes = findall(>(9), cavern)\n",
    "            new_flashes = setdiff(new_flashes, flashed)\n",
    "        end\n",
    "        cavern[flashed] .= 0\n",
    "        # print(flashed)\n",
    "        flashes += length(Set(flashed))\n",
    "    end\n",
    "    return (cavern, flashes)\n",
    "end\n"
   ]
  },
  {
   "cell_type": "code",
   "execution_count": 48,
   "metadata": {},
   "outputs": [],
   "source": [
    "surround_test_cavern = parse_day11(split(\"\"\"11111\n",
    "19991\n",
    "19191\n",
    "19991\n",
    "11111\"\"\", \"\\n\"))\n",
    "# part1(surround_test_cavern, 1)\n",
    "\n",
    "cavern_step1 = parse_day11(split(\"\"\"6594254334\n",
    "3856965822\n",
    "6375667284\n",
    "7252447257\n",
    "7468496589\n",
    "5278635756\n",
    "3287952832\n",
    "7993992245\n",
    "5957959665\n",
    "6394862637\"\"\", \"\\n\"))\n",
    "# count(==(9), test_cavern)\n",
    "# part1(test_cavern, 1)\n",
    "@assert(part1(copy(test_cavern), 1) == (cavern_step1, 0))\n",
    "cavern_step100 = parse_day11(split(\"\"\"0397666866\n",
    "0749766918\n",
    "0053976933\n",
    "0004297822\n",
    "0004229892\n",
    "0053222877\n",
    "0532222966\n",
    "9322228966\n",
    "7922286866\n",
    "6789998766\"\"\", \"\\n\"))\n",
    "@assert(part1(copy(test_cavern), 100) == (cavern_step100, 1656))\n"
   ]
  },
  {
   "cell_type": "code",
   "execution_count": 49,
   "metadata": {},
   "outputs": [
    {
     "data": {
      "text/plain": [
       "([4 4 … 0 0; 4 5 … 0 0; … ; 3 3 … 2 2; 0 3 … 2 8], 1688)"
      ]
     },
     "metadata": {},
     "output_type": "display_data"
    }
   ],
   "source": [
    "part1(parse_day11(readlines(\"inputs/day11.txt\")), 100)"
   ]
  },
  {
   "cell_type": "code",
   "execution_count": 71,
   "metadata": {},
   "outputs": [
    {
     "data": {
      "text/plain": [
       "part2 (generic function with 1 method)"
      ]
     },
     "metadata": {},
     "output_type": "display_data"
    }
   ],
   "source": [
    "function part2(cavern)\n",
    "    # So this is funky, Julia passes by value but that means we are passing the matrix pointer by value\n",
    "    # which is why I needed to `copy` in the above tests so here we can just repeatedly step by 1 \n",
    "    # without the copy and get the output at each step\n",
    "    step = 0\n",
    "    while !all(==(0), cavern)\n",
    "        part1(cavern, 1)\n",
    "        step += 1\n",
    "    end\n",
    "    return step\n",
    "end"
   ]
  },
  {
   "cell_type": "code",
   "execution_count": 72,
   "metadata": {},
   "outputs": [
    {
     "data": {
      "text/plain": [
       "403"
      ]
     },
     "metadata": {},
     "output_type": "display_data"
    }
   ],
   "source": [
    "@assert(part2(copy(test_cavern)) == 195)\n",
    "part2(parse_day11(readlines(\"inputs/day11.txt\")))"
   ]
  }
 ],
 "metadata": {
  "kernelspec": {
   "display_name": "Julia 1.6.3",
   "language": "julia",
   "name": "julia-1.6"
  },
  "language_info": {
   "file_extension": ".jl",
   "mimetype": "application/julia",
   "name": "julia",
   "version": "1.6.3"
  },
  "orig_nbformat": 4
 },
 "nbformat": 4,
 "nbformat_minor": 2
}
