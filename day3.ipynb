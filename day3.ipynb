{
 "cells": [
  {
   "cell_type": "code",
   "execution_count": 112,
   "metadata": {},
   "outputs": [
    {
     "data": {
      "text/plain": [
       "get_gamma (generic function with 1 method)"
      ]
     },
     "metadata": {},
     "output_type": "display_data"
    }
   ],
   "source": [
    "function parse_day3(lines)\n",
    "    return lines\n",
    "end\n",
    "\n",
    "input = parse_day3(readlines(\"inputs/day3.txt\"))\n",
    "\n",
    "function get_gamma(vals)\n",
    "    len = length(vals[1])\n",
    "    bits = []\n",
    "        for s in 1:len\n",
    "        ct = 0\n",
    "        for x in vals\n",
    "            if x[s] == '1' \n",
    "                ct += 1\n",
    "            end\n",
    "        end\n",
    "        if ct >= (length(vals)/2)\n",
    "            bits = push!(bits, \"1\")\n",
    "            # gamma = gamma[1:s] * '1' * gamma[s+2:end]\n",
    "        else\n",
    "            bits = push!(bits, \"0\")\n",
    "            # gamma = gamma[1:s] * '0' * gamma[s+2:end]\n",
    "        end\n",
    "    end\n",
    "    gamma = join(bits)\n",
    "    return gamma\n",
    "end"
   ]
  },
  {
   "cell_type": "code",
   "execution_count": 113,
   "metadata": {},
   "outputs": [
    {
     "data": {
      "text/plain": [
       "198"
      ]
     },
     "metadata": {},
     "output_type": "display_data"
    }
   ],
   "source": [
    "test_input = parse_day3(split(\"\"\"00100\n",
    "11110\n",
    "10110\n",
    "10111\n",
    "10101\n",
    "01111\n",
    "00111\n",
    "11100\n",
    "10000\n",
    "11001\n",
    "00010\n",
    "01010\"\"\",\"\\n\"))\n",
    "\n",
    "gamma = parse(Int, get_gamma(test_input), base=2)\n",
    "epsilon = xor((1 << 5)-1, gamma)\n",
    "gamma * epsilon"
   ]
  },
  {
   "cell_type": "code",
   "execution_count": 114,
   "metadata": {},
   "outputs": [
    {
     "data": {
      "text/plain": [
       "3549854"
      ]
     },
     "metadata": {},
     "output_type": "display_data"
    }
   ],
   "source": [
    "gamma = parse(Int, get_gamma(input), base = 2)\n",
    "epsilon = xor((1 << length(input[1])) - 1, gamma)\n",
    "gamma * epsilon"
   ]
  },
  {
   "cell_type": "code",
   "execution_count": 115,
   "metadata": {},
   "outputs": [
    {
     "data": {
      "text/plain": [
       "3765399"
      ]
     },
     "metadata": {},
     "output_type": "display_data"
    }
   ],
   "source": [
    "function part2(vals)\n",
    "    len = length(vals[1])\n",
    "    oxygen = 0\n",
    "    carbon = 0\n",
    "    vals2 = deepcopy(vals)\n",
    "\n",
    "    for i in 1:len\n",
    "        gamma = get_gamma(vals)\n",
    "        if gamma[i] == '1'\n",
    "            vals = filter(x->x[i] == '1', vals)\n",
    "        else\n",
    "            vals = filter(x->x[i] != '1', vals)\n",
    "        end\n",
    "        if length(vals) == 1\n",
    "            oxygen = parse(Int, vals[1], base=2)\n",
    "            break \n",
    "        end\n",
    "    end\n",
    "    \n",
    "    for i in 1:len\n",
    "        gamma = get_gamma(vals2)\n",
    "        if gamma[i] == '1'\n",
    "            vals2 = filter(x->x[i] == '0', vals2)\n",
    "        else\n",
    "            vals2 = filter(x->x[i] != '0', vals2)\n",
    "        end\n",
    "        if length(vals2) == 1\n",
    "            carbon = parse(Int, vals2[1], base=2)\n",
    "            break \n",
    "        end\n",
    "    end\n",
    "    return (oxygen * carbon)\n",
    "end\n",
    "part2(input)"
   ]
  },
  {
   "cell_type": "code",
   "execution_count": 116,
   "metadata": {},
   "outputs": [
    {
     "data": {
      "text/plain": [
       "230"
      ]
     },
     "metadata": {},
     "output_type": "display_data"
    }
   ],
   "source": [
    "part2(test_input)"
   ]
  }
 ],
 "metadata": {
  "kernelspec": {
   "display_name": "Julia 1.6.3",
   "language": "julia",
   "name": "julia-1.6"
  },
  "language_info": {
   "file_extension": ".jl",
   "mimetype": "application/julia",
   "name": "julia",
   "version": "1.6.3"
  },
  "orig_nbformat": 4
 },
 "nbformat": 4,
 "nbformat_minor": 2
}
