{
 "cells": [
  {
   "cell_type": "code",
   "execution_count": 50,
   "metadata": {},
   "outputs": [],
   "source": [
    "test_input = split(\"\"\"be cfbegad cbdgef fgaecd cgeb fdcge agebfd fecdb fabcd edb | fdgacbe cefdb cefbgd gcbe\n",
    "edbfga begcd cbg gc gcadebf fbgde acbgfd abcde gfcbed gfec | fcgedb cgb dgebacf gc\n",
    "fgaebd cg bdaec gdafb agbcfd gdcbef bgcad gfac gcb cdgabef | cg cg fdcagb cbg\n",
    "fbegcd cbd adcefb dageb afcb bc aefdc ecdab fgdeca fcdbega | efabcd cedba gadfec cb\n",
    "aecbfdg fbg gf bafeg dbefa fcge gcbea fcaegb dgceab fcbdga | gecf egdcabf bgf bfgea\n",
    "fgeab ca afcebg bdacfeg cfaedg gcfdb baec bfadeg bafgc acf | gebdcfa ecba ca fadegcb\n",
    "dbcfg fgd bdegcaf fgec aegbdf ecdfab fbedc dacgb gdcebf gf | cefg dcbef fcge gbcadfe\n",
    "bdfegc cbegaf gecbf dfcage bdacg ed bedf ced adcbefg gebcd | ed bcgafe cdgba cbgef\n",
    "egadfb cdbfeg cegd fecab cgb gbdefca cg fgcdab egfdb bfceg | gbdfcae bgc cg cgb\n",
    "gcafb gcf dcaebfg ecagb gf abcdeg gaef cafbge fdbac fegbdc | fgae cfgab fg bagce\"\"\", \"\\n\")\n",
    "\n",
    "struct Note\n",
    "    patterns :: AbstractArray{String,1}\n",
    "    outputs :: AbstractArray{String,1}\n",
    "end\n",
    "\n",
    "function parse_day5(notes)\n",
    "    parsed = []\n",
    "    for note in notes\n",
    "        parts = split(note, \" | \")\n",
    "        push!(parsed, Note(split(parts[1], \" \"), split(parts[2], \" \")))\n",
    "    end\n",
    "    return parsed\n",
    "end\n",
    "\n",
    "function part1(notes)\n",
    "    uniqlens = [2,3,4,7]\n",
    "    # map(note -> println(typeof(note)), notes)\n",
    "    return sum(map(note -> count(x -> length(x) in uniqlens, note.outputs), notes))\n",
    "end\n",
    "\n",
    "@assert(26 == part1(parse_day5(test_input)))"
   ]
  },
  {
   "cell_type": "code",
   "execution_count": 51,
   "metadata": {},
   "outputs": [
    {
     "data": {
      "text/plain": [
       "554"
      ]
     },
     "metadata": {},
     "output_type": "display_data"
    }
   ],
   "source": [
    "input = parse_day5(readlines(\"inputs/day8.txt\"))\n",
    "part1(input)"
   ]
  },
  {
   "cell_type": "markdown",
   "metadata": {},
   "source": [
    "# Deductions\n",
    "## basics:\n",
    "- c,f are in 1 with length 2\n",
    "- a,c,f are in 7 with length 3\n",
    "- b,c,d,f are in 4 with length 4\n",
    "\n",
    "- a,c,d,f,g are in 3 with length 5\n",
    "  - 3 is the only number with 5 signals that shares both signals in 1\n",
    "- a,b,d,f,g are in 5 with length 5\n"
   ]
  },
  {
   "cell_type": "code",
   "execution_count": 52,
   "metadata": {},
   "outputs": [],
   "source": [
    "function part2(notes)\n",
    "    decoded = []\n",
    "    for note in notes\n",
    "        one = note.patterns[findfirst(x->length(x) == 2, note.patterns)]\n",
    "        seven = note.patterns[findfirst(x->length(x) == 3, note.patterns)]\n",
    "        four = note.patterns[findfirst(x->length(x) == 4, note.patterns)]\n",
    "        eight = note.patterns[findfirst(x->length(x) == 7, note.patterns)]\n",
    "        len5s = note.patterns[findall(x->length(x) == 5, note.patterns)]\n",
    "        @assert(length(unique(len5s)) == 3)\n",
    "        len6s = note.patterns[findall(x->length(x) == 6, note.patterns)]\n",
    "        @assert(length(unique(len6s)) == 3)\n",
    "\n",
    "        a_signal = setdiff(seven, one)[1]\n",
    "\n",
    "        three = len5s[findfirst(x -> length(setdiff(x, one))==3, len5s)]\n",
    "\n",
    "        two_or_five = setdiff(len5s, [three])\n",
    "        @assert(length(two_or_five) == 2)\n",
    "        e_signal = setdiff(eight, seven, four, three)[1]\n",
    "        two = two_or_five[findfirst(x->e_signal in x, two_or_five)]\n",
    "        five = setdiff(two_or_five, [two])[1]\n",
    "\n",
    "        c_signal = setdiff(five, three)[1]\n",
    "        zero_or_six = len6s[findall(x->e_signal in x,len6s)]\n",
    "        nine = setdiff(len6s, zero_or_six)[1]\n",
    "        zero = zero_or_six[findfirst(x-> length(setdiff(x, one)) == 4, zero_or_six)]\n",
    "        six = setdiff(zero_or_six, [zero])[1]\n",
    "        numbers = [sort(collect(x)) for x in [zero, one, two, three, four, five, six, seven, eight, nine]]\n",
    "        dig = []\n",
    "        for out in note.outputs\n",
    "            sorted = sort(collect(out))\n",
    "            num = findfirst(==(sorted), numbers)-1\n",
    "            push!(dig, num)\n",
    "        end\n",
    "        # println(dig)\n",
    "        push!(decoded, foldr((rest, msd) -> rest + 10*msd,reverse(dig)))\n",
    "    end\n",
    "    # println(decoded)\n",
    "    return sum(decoded)\n",
    "end\n",
    "\n",
    "parsed = parse_day5(test_input)\n",
    "# println(parsed)\n",
    "@assert(61229 == part2(parsed))"
   ]
  },
  {
   "cell_type": "code",
   "execution_count": 53,
   "metadata": {},
   "outputs": [
    {
     "data": {
      "text/plain": [
       "990964"
      ]
     },
     "metadata": {},
     "output_type": "display_data"
    }
   ],
   "source": [
    "part2(input)"
   ]
  }
 ],
 "metadata": {
  "kernelspec": {
   "display_name": "Julia 1.6.3",
   "language": "julia",
   "name": "julia-1.6"
  },
  "language_info": {
   "file_extension": ".jl",
   "mimetype": "application/julia",
   "name": "julia",
   "version": "1.6.3"
  },
  "orig_nbformat": 4
 },
 "nbformat": 4,
 "nbformat_minor": 2
}
