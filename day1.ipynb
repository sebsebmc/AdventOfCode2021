{
 "cells": [
  {
   "cell_type": "code",
   "execution_count": 1,
   "metadata": {},
   "outputs": [
    {
     "data": {
      "text/plain": [
       "count_increases (generic function with 1 method)"
      ]
     },
     "metadata": {},
     "output_type": "display_data"
    }
   ],
   "source": [
    "function parse_lines(lines)\n",
    "    return parse(Int, lines)\n",
    "end\n",
    "\n",
    "function count_increases(measurements)\n",
    "    increases = 0\n",
    "    last = measurements[1]\n",
    "    for n in measurements\n",
    "        if n > last\n",
    "            increases += 1\n",
    "        end\n",
    "        last = n\n",
    "    end\n",
    "    return increases\n",
    "end"
   ]
  },
  {
   "cell_type": "code",
   "execution_count": 2,
   "metadata": {},
   "outputs": [],
   "source": [
    "test_input = split(\"\"\"199\n",
    "200\n",
    "208\n",
    "210\n",
    "200\n",
    "207\n",
    "240\n",
    "269\n",
    "260\n",
    "263\"\"\", \"\\n\")\n",
    "\n",
    "@assert(count_increases(parse_lines.(test_input)) == 7)"
   ]
  },
  {
   "cell_type": "code",
   "execution_count": 3,
   "metadata": {},
   "outputs": [
    {
     "data": {
      "text/plain": [
       "1466"
      ]
     },
     "metadata": {},
     "output_type": "display_data"
    }
   ],
   "source": [
    "count_increases(parse_lines.(readlines(\"inputs/day1.txt\")))"
   ]
  },
  {
   "cell_type": "code",
   "execution_count": 16,
   "metadata": {},
   "outputs": [
    {
     "data": {
      "text/plain": [
       "8-element Vector{Any}:\n",
       " 607\n",
       " 618\n",
       " 618\n",
       " 617\n",
       " 647\n",
       " 716\n",
       " 769\n",
       " 792"
      ]
     },
     "metadata": {},
     "output_type": "display_data"
    }
   ],
   "source": [
    "function window_func(measurements, win_size)\n",
    "    windowed = []\n",
    "    bound = win_size - 1\n",
    "    for i in 1:(length(measurements)-bound)\n",
    "        push!(windowed, sum(measurements[i:i+bound]))\n",
    "    end\n",
    "    return windowed\n",
    "end\n",
    "window_func(parse_lines.(test_input), 3)\n"
   ]
  },
  {
   "cell_type": "code",
   "execution_count": 18,
   "metadata": {},
   "outputs": [
    {
     "data": {
      "text/plain": [
       "1491"
      ]
     },
     "metadata": {},
     "output_type": "display_data"
    }
   ],
   "source": [
    "@assert(count_increases(window_func(parse_lines.(test_input), 3)) == 5)\n",
    "@assert(window_func(parse_lines.(test_input), 3) == [607, 618, 618, 617, 647, 716, 769, 792])\n",
    "\n",
    "count_increases(window_func(parse_lines.(readlines(\"inputs/day1.txt\")), 3))"
   ]
  }
 ],
 "metadata": {
  "kernelspec": {
   "display_name": "Julia 1.6.3",
   "language": "julia",
   "name": "julia-1.6"
  },
  "language_info": {
   "file_extension": ".jl",
   "mimetype": "application/julia",
   "name": "julia",
   "version": "1.6.3"
  },
  "orig_nbformat": 4
 },
 "nbformat": 4,
 "nbformat_minor": 2
}
