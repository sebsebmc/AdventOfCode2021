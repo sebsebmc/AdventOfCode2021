{
 "cells": [
  {
   "cell_type": "code",
   "execution_count": 1,
   "metadata": {},
   "outputs": [
    {
     "data": {
      "text/plain": [
       "5-element Vector{Int64}:\n",
       " 3\n",
       " 4\n",
       " 3\n",
       " 1\n",
       " 2"
      ]
     },
     "metadata": {},
     "output_type": "display_data"
    }
   ],
   "source": [
    "test_input = \"3,4,3,1,2\"\n",
    "\n",
    "test_fish = parse.(Int, split(test_input, \",\"))"
   ]
  },
  {
   "cell_type": "code",
   "execution_count": 2,
   "metadata": {},
   "outputs": [],
   "source": [
    "function simulate_fish(start_fish, days=80)\n",
    "    fish = copy(start_fish)\n",
    "    for i in 1:days\n",
    "        fish = replace(x-> x -= 1, fish)\n",
    "        fresh = count(x->x==-1, fish)\n",
    "        fresh_fish = repeat([8], fresh)\n",
    "        # println(fresh_fish)\n",
    "        replace!(x-> x == -1 ? 6 : x, fish)\n",
    "        push!(fish, fresh_fish...)\n",
    "    end\n",
    "    return length(fish)\n",
    "end\n",
    "@assert(5934 == simulate_fish(test_fish))"
   ]
  },
  {
   "cell_type": "code",
   "execution_count": 25,
   "metadata": {},
   "outputs": [
    {
     "data": {
      "text/plain": [
       "372984"
      ]
     },
     "metadata": {},
     "output_type": "display_data"
    }
   ],
   "source": [
    "input = parse.(Int8, split(readline(\"inputs/day6.txt\"), \",\"))\n",
    "simulate_fish(input)\n"
   ]
  },
  {
   "cell_type": "code",
   "execution_count": 26,
   "metadata": {},
   "outputs": [
    {
     "data": {
      "text/plain": [
       "1681503251694"
      ]
     },
     "metadata": {},
     "output_type": "display_data"
    }
   ],
   "source": [
    "function simulate_fish2(start_fish, days=80)\n",
    "    counts = [count(==(i), start_fish) for i in 0:8]\n",
    "    for day in 1:days\n",
    "        new_counts = counts[2:9]\n",
    "        new_counts[7] += counts[1]\n",
    "        counts = push!(new_counts, counts[1])\n",
    "    end\n",
    "    return sum(counts)\n",
    "end\n",
    "\n",
    "@assert(5934 == simulate_fish2(test_fish))\n",
    "\n",
    "simulate_fish2(input, 256)"
   ]
  }
 ],
 "metadata": {
  "kernelspec": {
   "display_name": "Julia 1.6.3",
   "language": "julia",
   "name": "julia-1.6"
  },
  "language_info": {
   "file_extension": ".jl",
   "mimetype": "application/julia",
   "name": "julia",
   "version": "1.6.3"
  },
  "orig_nbformat": 4
 },
 "nbformat": 4,
 "nbformat_minor": 2
}
