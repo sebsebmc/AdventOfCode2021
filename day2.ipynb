{
 "cells": [
  {
   "cell_type": "code",
   "execution_count": 19,
   "metadata": {},
   "outputs": [
    {
     "data": {
      "text/plain": [
       "calc_pos (generic function with 1 method)"
      ]
     },
     "metadata": {},
     "output_type": "display_data"
    }
   ],
   "source": [
    "test_input = split(\"\"\"forward 5\n",
    "down 5\n",
    "forward 8\n",
    "up 3\n",
    "down 8\n",
    "forward 2\"\"\", \"\\n\")\n",
    "\n",
    "\n",
    "\n",
    "function parse_moves(moves)\n",
    "    parsed = []\n",
    "    for m in moves\n",
    "        parts = split(m, \" \")\n",
    "        dir = parts[1]\n",
    "        dist = parse(Int, parts[2])\n",
    "        push!(parsed, (dir, dist))\n",
    "    end\n",
    "    return parsed\n",
    "end\n",
    "\n",
    "function calc_pos(moves)\n",
    "    depth, pos = 0, 0\n",
    "    for m in moves\n",
    "        if m[1] == \"forward\"\n",
    "            pos += m[2]\n",
    "        elseif m[1] == \"down\"\n",
    "            depth += m[2]\n",
    "        elseif m[1] == \"up\"\n",
    "            depth -= m[2]\n",
    "        end\n",
    "    end\n",
    "    return (depth, pos)\n",
    "end"
   ]
  },
  {
   "cell_type": "code",
   "execution_count": 20,
   "metadata": {},
   "outputs": [],
   "source": [
    "depth, pos = calc_pos(parse_moves(test_input))\n",
    "@assert(depth*pos == 150)"
   ]
  },
  {
   "cell_type": "code",
   "execution_count": 21,
   "metadata": {},
   "outputs": [
    {
     "data": {
      "text/plain": [
       "1714950"
      ]
     },
     "metadata": {},
     "output_type": "display_data"
    }
   ],
   "source": [
    "lines = readlines(\"inputs/day2.txt\")\n",
    "depth, pos = calc_pos(parse_moves(lines))\n",
    "depth * pos\n"
   ]
  },
  {
   "cell_type": "code",
   "execution_count": 22,
   "metadata": {},
   "outputs": [
    {
     "data": {
      "text/plain": [
       "1281977850"
      ]
     },
     "metadata": {},
     "output_type": "display_data"
    }
   ],
   "source": [
    "function calc_pos2(moves)\n",
    "    depth, pos, aim = 0, 0, 0\n",
    "    for m in moves\n",
    "        if m[1] == \"forward\"\n",
    "            pos += m[2]\n",
    "            depth += (aim * m[2])\n",
    "        elseif m[1] == \"down\"\n",
    "            aim += m[2]\n",
    "        elseif m[1] == \"up\"\n",
    "            aim -= m[2]\n",
    "        end\n",
    "    end\n",
    "    return (depth, pos)\n",
    "end\n",
    "\n",
    "depth, pos = calc_pos2(parse_moves(lines))\n",
    "depth * pos"
   ]
  }
 ],
 "metadata": {
  "kernelspec": {
   "display_name": "Julia 1.6.3",
   "language": "julia",
   "name": "julia-1.6"
  },
  "language_info": {
   "file_extension": ".jl",
   "mimetype": "application/julia",
   "name": "julia",
   "version": "1.6.3"
  },
  "orig_nbformat": 4
 },
 "nbformat": 4,
 "nbformat_minor": 2
}
